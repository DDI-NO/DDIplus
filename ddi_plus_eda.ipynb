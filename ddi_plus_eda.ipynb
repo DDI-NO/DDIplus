{
 "cells": [
  {
   "cell_type": "code",
   "execution_count": 1,
   "metadata": {},
   "outputs": [
    {
     "name": "stderr",
     "output_type": "stream",
     "text": [
      "/opt/homebrew/Caskroom/miniconda/base/lib/python3.12/site-packages/fuzzywuzzy/fuzz.py:11: UserWarning: Using slow pure-python SequenceMatcher. Install python-Levenshtein to remove this warning\n",
      "  warnings.warn('Using slow pure-python SequenceMatcher. Install python-Levenshtein to remove this warning')\n"
     ]
    }
   ],
   "source": [
    "import pandas as pd\n",
    "import pyddi"
   ]
  },
  {
   "cell_type": "code",
   "execution_count": 2,
   "metadata": {},
   "outputs": [
    {
     "name": "stdout",
     "output_type": "stream",
     "text": [
      "Reading dump file: /Users/freyta/Documents/Work/APGEM/data/exportado/ddi_plus_clinical_250401.csv\n"
     ]
    }
   ],
   "source": [
    "xnatsubs = pd.read_csv('/Users/freyta/Documents/Work/APGEM/data/exportado/ddi_plus_xnat_subs.csv')\n",
    "data = pyddi.read_dump(cohort='ddi_plus', postprocess=False, printfile=True)\n",
    "data = data.query('included == True')\n",
    "data.loc[data['stag_text'] == 'NN', 'stag_text'] = 'MCI'\n"
   ]
  },
  {
   "cell_type": "code",
   "execution_count": 3,
   "metadata": {},
   "outputs": [
    {
     "data": {
      "text/html": [
       "<div>\n",
       "<style scoped>\n",
       "    .dataframe tbody tr th:only-of-type {\n",
       "        vertical-align: middle;\n",
       "    }\n",
       "\n",
       "    .dataframe tbody tr th {\n",
       "        vertical-align: top;\n",
       "    }\n",
       "\n",
       "    .dataframe thead th {\n",
       "        text-align: right;\n",
       "    }\n",
       "</style>\n",
       "<table border=\"1\" class=\"dataframe\">\n",
       "  <thead>\n",
       "    <tr style=\"text-align: right;\">\n",
       "      <th></th>\n",
       "      <th>label</th>\n",
       "      <th>experiment_count</th>\n",
       "      <th>included</th>\n",
       "      <th>status</th>\n",
       "      <th>_group</th>\n",
       "      <th>subj_group_text</th>\n",
       "    </tr>\n",
       "  </thead>\n",
       "  <tbody>\n",
       "    <tr>\n",
       "      <th>0</th>\n",
       "      <td>D13097</td>\n",
       "      <td>0</td>\n",
       "      <td>False</td>\n",
       "      <td>NaN</td>\n",
       "      <td>DDI</td>\n",
       "      <td>NaN</td>\n",
       "    </tr>\n",
       "    <tr>\n",
       "      <th>1</th>\n",
       "      <td>D13092</td>\n",
       "      <td>0</td>\n",
       "      <td>True</td>\n",
       "      <td>withdraw</td>\n",
       "      <td>DDI</td>\n",
       "      <td>NaN</td>\n",
       "    </tr>\n",
       "    <tr>\n",
       "      <th>2</th>\n",
       "      <td>D13096</td>\n",
       "      <td>0</td>\n",
       "      <td>True</td>\n",
       "      <td>active</td>\n",
       "      <td>DDI</td>\n",
       "      <td>NaN</td>\n",
       "    </tr>\n",
       "    <tr>\n",
       "      <th>3</th>\n",
       "      <td>D13098</td>\n",
       "      <td>0</td>\n",
       "      <td>True</td>\n",
       "      <td>active</td>\n",
       "      <td>DDI</td>\n",
       "      <td>NaN</td>\n",
       "    </tr>\n",
       "    <tr>\n",
       "      <th>4</th>\n",
       "      <td>D13095</td>\n",
       "      <td>1</td>\n",
       "      <td>True</td>\n",
       "      <td>active</td>\n",
       "      <td>DDI</td>\n",
       "      <td>Neuropsychiatric symptoms group</td>\n",
       "    </tr>\n",
       "    <tr>\n",
       "      <th>15</th>\n",
       "      <td>D13001</td>\n",
       "      <td>8</td>\n",
       "      <td>False</td>\n",
       "      <td>NaN</td>\n",
       "      <td>DDI</td>\n",
       "      <td>Cognitive symptom group</td>\n",
       "    </tr>\n",
       "  </tbody>\n",
       "</table>\n",
       "</div>"
      ],
      "text/plain": [
       "     label  experiment_count  included    status _group  \\\n",
       "0   D13097                 0     False       NaN    DDI   \n",
       "1   D13092                 0      True  withdraw    DDI   \n",
       "2   D13096                 0      True    active    DDI   \n",
       "3   D13098                 0      True    active    DDI   \n",
       "4   D13095                 1      True    active    DDI   \n",
       "15  D13001                 8     False       NaN    DDI   \n",
       "\n",
       "                    subj_group_text  \n",
       "0                               NaN  \n",
       "1                               NaN  \n",
       "2                               NaN  \n",
       "3                               NaN  \n",
       "4   Neuropsychiatric symptoms group  \n",
       "15          Cognitive symptom group  "
      ]
     },
     "execution_count": 3,
     "metadata": {},
     "output_type": "execute_result"
    }
   ],
   "source": [
    "xnatsubs[~xnatsubs['label'].isin(data['subject_label'])]"
   ]
  },
  {
   "cell_type": "code",
   "execution_count": 4,
   "metadata": {},
   "outputs": [
    {
     "data": {
      "text/plain": [
       "site\n",
       "Ahus    136\n",
       "Name: count, dtype: int64"
      ]
     },
     "execution_count": 4,
     "metadata": {},
     "output_type": "execute_result"
    }
   ],
   "source": [
    "data['site'] = data['subject_label'].map(pyddi.site_from_subject_label)\n",
    "data.site.value_counts()"
   ]
  },
  {
   "cell_type": "markdown",
   "metadata": {},
   "source": [
    "I think we could look at \n",
    "- baseline sociodemographics (a table 1), \n",
    "- then explore clinical and biological variables, e.g. correlate 1) gds/madrs vs neuropsychology, 2) gds/madrs vs csf (which ones?), 3) gds/madrs vs mri (which ones?) - we could for instance see if higher baseline depression load is associated with worse cognitive performance and more organic pathology over time. \n",
    "- explore social variables as well: age of retirement, marital status, educational level. What do you think?"
   ]
  },
  {
   "cell_type": "code",
   "execution_count": 5,
   "metadata": {},
   "outputs": [
    {
     "name": "stdout",
     "output_type": "stream",
     "text": [
      "Icnluded subjects: 90\n",
      "Total observations: 136\n",
      "visit_id\n",
      "1      90\n",
      "2      34\n",
      "3      10\n",
      "4       1\n",
      "101     1\n",
      "Name: count, dtype: int64\n",
      "Mean followup years: 3.441353991662001 (1.6919026606947538)\n",
      "Sum of followup years 151.41957563312803\n",
      "Total mean followup years (N_subjects * mean_years) 309.72185924958006\n"
     ]
    }
   ],
   "source": [
    "total_subs = data['subject_label'].nunique()\n",
    "total_observations = len(data)\n",
    "gender_count = data.gender.value_counts()\n",
    "total_subs\n",
    "included_followups = data[(data['visit_id'] > 1) & (data['visit_id'].isin([1, 2, 3, 4, 5, 6]))]\n",
    "mean_years_followup, sd_years_followup = included_followups.years_from_baseline.mean(), included_followups.years_from_baseline.std()\n",
    "print('Icnluded subjects:', total_subs)\n",
    "print('Total observations:', total_observations)\n",
    "print(data.visit_id.value_counts())\n",
    "print(f'Mean followup years: {mean_years_followup} ({sd_years_followup})')\n",
    "print('Sum of followup years',included_followups['years_from_baseline'].sum())\n",
    "print('Total mean followup years (N_subjects * mean_years)',mean_years_followup * total_subs)"
   ]
  },
  {
   "cell_type": "code",
   "execution_count": 6,
   "metadata": {},
   "outputs": [
    {
     "data": {
      "text/html": [
       "<div>\n",
       "<style scoped>\n",
       "    .dataframe tbody tr th:only-of-type {\n",
       "        vertical-align: middle;\n",
       "    }\n",
       "\n",
       "    .dataframe tbody tr th {\n",
       "        vertical-align: top;\n",
       "    }\n",
       "\n",
       "    .dataframe thead th {\n",
       "        text-align: right;\n",
       "    }\n",
       "</style>\n",
       "<table border=\"1\" class=\"dataframe\">\n",
       "  <thead>\n",
       "    <tr style=\"text-align: right;\">\n",
       "      <th>a</th>\n",
       "      <th>0.0</th>\n",
       "      <th>1.0</th>\n",
       "    </tr>\n",
       "    <tr>\n",
       "      <th>stag_text</th>\n",
       "      <th></th>\n",
       "      <th></th>\n",
       "    </tr>\n",
       "  </thead>\n",
       "  <tbody>\n",
       "    <tr>\n",
       "      <th>CN</th>\n",
       "      <td>9</td>\n",
       "      <td>0</td>\n",
       "    </tr>\n",
       "    <tr>\n",
       "      <th>Dementia</th>\n",
       "      <td>0</td>\n",
       "      <td>3</td>\n",
       "    </tr>\n",
       "    <tr>\n",
       "      <th>MCI</th>\n",
       "      <td>26</td>\n",
       "      <td>35</td>\n",
       "    </tr>\n",
       "    <tr>\n",
       "      <th>SCD</th>\n",
       "      <td>9</td>\n",
       "      <td>8</td>\n",
       "    </tr>\n",
       "  </tbody>\n",
       "</table>\n",
       "</div>"
      ],
      "text/plain": [
       "a          0.0  1.0\n",
       "stag_text          \n",
       "CN           9    0\n",
       "Dementia     0    3\n",
       "MCI         26   35\n",
       "SCD          9    8"
      ]
     },
     "execution_count": 6,
     "metadata": {},
     "output_type": "execute_result"
    }
   ],
   "source": [
    "pd.crosstab(data['stag_text'], data['a'])"
   ]
  },
  {
   "cell_type": "markdown",
   "metadata": {},
   "source": [
    "I see 96 D12/D13 existing subjects in XNAT. 5 of them don't have any experiment, of which one is not included in the study and another withdrew. \n",
    "\n",
    "As of this morning, this is the available data:\n",
    "Icnluded subjects: 90\n",
    "Total observations: 136\n",
    "Follow-ups:\n",
    "1:      90\n",
    "2:     34\n",
    "3:      10\n",
    "4:       1\n",
    "\n",
    "Mean followup years: 3.44 (1.69)\n",
    "Sum of followup years 151.41\n",
    "\n",
    "Regarding staging and amyloid status:\n",
    "         -       +\n",
    "CN       9       0\n",
    "SCD      9       8\n",
    "MCI      26      35\n",
    "Dementia 0       3\n",
    "\n",
    "CN is Cognitively Normal\n",
    "\n"
   ]
  },
  {
   "cell_type": "code",
   "execution_count": 7,
   "metadata": {},
   "outputs": [
    {
     "data": {
      "text/plain": [
       "(np.int64(98), np.int64(56))"
      ]
     },
     "execution_count": 7,
     "metadata": {},
     "output_type": "execute_result"
    }
   ],
   "source": [
    "data[['subject_label', 'ugot_p217_plasma_mean','ugot_p217_csf_mean']]\n",
    "data['ugot_p217_plasma_mean'].notna().sum(), data['ugot_p217_csf_mean'].notna().sum()\n"
   ]
  },
  {
   "cell_type": "code",
   "execution_count": 8,
   "metadata": {},
   "outputs": [
    {
     "data": {
      "image/svg+xml": [
       "<?xml version=\"1.0\" encoding=\"UTF-8\" standalone=\"no\"?>\n",
       "<!DOCTYPE svg PUBLIC \"-//W3C//DTD SVG 1.1//EN\"\n",
       " \"http://www.w3.org/Graphics/SVG/1.1/DTD/svg11.dtd\">\n",
       "<!-- Generated by graphviz version 12.2.1 (20241206.2353)\n",
       " -->\n",
       "<!-- Title: Progression Pages: 1 -->\n",
       "<svg width=\"374pt\" height=\"195pt\"\n",
       " viewBox=\"0.00 0.00 373.96 194.85\" xmlns=\"http://www.w3.org/2000/svg\" xmlns:xlink=\"http://www.w3.org/1999/xlink\">\n",
       "<g id=\"graph0\" class=\"graph\" transform=\"scale(1 1) rotate(0) translate(4 190.85)\">\n",
       "<title>Progression</title>\n",
       "<polygon fill=\"white\" stroke=\"none\" points=\"-4,4 -4,-190.85 369.96,-190.85 369.96,4 -4,4\"/>\n",
       "<!-- antn -->\n",
       "<g id=\"node1\" class=\"node\">\n",
       "<title>antn</title>\n",
       "<ellipse fill=\"#d5e8d4\" stroke=\"black\" cx=\"182.98\" cy=\"-153.26\" rx=\"54.98\" ry=\"33.59\"/>\n",
       "<text text-anchor=\"start\" x=\"170.23\" y=\"-157.71\" font-family=\"Arial\" font-size=\"14.00\">A&#45;T&#45;</text>\n",
       "<text text-anchor=\"start\" x=\"154.1\" y=\"-138.96\" font-family=\"Arial\" font-size=\"14.00\"> </text>\n",
       "<text text-anchor=\"start\" x=\"157.85\" y=\"-138.96\" font-family=\"Arial\" font-size=\"10.00\">Baseline: 30</text>\n",
       "</g>\n",
       "<!-- aptp -->\n",
       "<g id=\"node2\" class=\"node\">\n",
       "<title>aptp</title>\n",
       "<ellipse fill=\"#f8cecc\" stroke=\"black\" cx=\"54.98\" cy=\"-33.59\" rx=\"54.98\" ry=\"33.59\"/>\n",
       "<text text-anchor=\"start\" x=\"38.1\" y=\"-38.04\" font-family=\"Arial\" font-size=\"14.00\">A+T+</text>\n",
       "<text text-anchor=\"start\" x=\"26.1\" y=\"-19.29\" font-family=\"Arial\" font-size=\"14.00\"> </text>\n",
       "<text text-anchor=\"start\" x=\"29.85\" y=\"-19.29\" font-family=\"Arial\" font-size=\"10.00\">Baseline: 21</text>\n",
       "</g>\n",
       "<!-- antn&#45;&gt;aptp -->\n",
       "<g id=\"edge3\" class=\"edge\">\n",
       "<title>antn&#45;&gt;aptp</title>\n",
       "<path fill=\"none\" stroke=\"grey\" d=\"M152.97,-124.67C135.07,-108.22 112.19,-87.18 93.03,-69.57\"/>\n",
       "<polygon fill=\"grey\" stroke=\"grey\" points=\"95.64,-67.22 85.91,-63.03 90.91,-72.37 95.64,-67.22\"/>\n",
       "<text text-anchor=\"middle\" x=\"130.02\" y=\"-88.38\" font-family=\"Times,serif\" font-size=\"14.00\">1</text>\n",
       "</g>\n",
       "<!-- aptn -->\n",
       "<g id=\"node3\" class=\"node\">\n",
       "<title>aptn</title>\n",
       "<ellipse fill=\"#fff2cc\" stroke=\"black\" cx=\"182.98\" cy=\"-33.59\" rx=\"54.98\" ry=\"33.59\"/>\n",
       "<text text-anchor=\"start\" x=\"168.35\" y=\"-38.04\" font-family=\"Arial\" font-size=\"14.00\">A+T&#45;</text>\n",
       "<text text-anchor=\"start\" x=\"154.1\" y=\"-19.29\" font-family=\"Arial\" font-size=\"14.00\"> </text>\n",
       "<text text-anchor=\"start\" x=\"157.85\" y=\"-19.29\" font-family=\"Arial\" font-size=\"10.00\">Baseline: 13</text>\n",
       "</g>\n",
       "<!-- antn&#45;&gt;aptn -->\n",
       "<g id=\"edge1\" class=\"edge\">\n",
       "<title>antn&#45;&gt;aptn</title>\n",
       "<path fill=\"none\" stroke=\"grey\" d=\"M182.98,-119.48C182.98,-106.97 182.98,-92.47 182.98,-79.05\"/>\n",
       "<polygon fill=\"grey\" stroke=\"grey\" points=\"186.48,-79.11 182.98,-69.11 179.48,-79.11 186.48,-79.11\"/>\n",
       "<text text-anchor=\"middle\" x=\"186.35\" y=\"-88.38\" font-family=\"Times,serif\" font-size=\"14.00\">2</text>\n",
       "</g>\n",
       "<!-- antp -->\n",
       "<g id=\"node4\" class=\"node\">\n",
       "<title>antp</title>\n",
       "<ellipse fill=\"#fff2cc\" stroke=\"black\" cx=\"310.98\" cy=\"-33.59\" rx=\"54.98\" ry=\"33.59\"/>\n",
       "<text text-anchor=\"start\" x=\"295.98\" y=\"-38.04\" font-family=\"Arial\" font-size=\"14.00\">A&#45;T+</text>\n",
       "<text text-anchor=\"start\" x=\"282.1\" y=\"-19.29\" font-family=\"Arial\" font-size=\"14.00\"> </text>\n",
       "<text text-anchor=\"start\" x=\"285.85\" y=\"-19.29\" font-family=\"Arial\" font-size=\"10.00\">Baseline: 10</text>\n",
       "</g>\n",
       "<!-- antn&#45;&gt;antp -->\n",
       "<g id=\"edge2\" class=\"edge\">\n",
       "<title>antn&#45;&gt;antp</title>\n",
       "<path fill=\"none\" stroke=\"grey\" d=\"M212.99,-124.67C230.88,-108.22 253.77,-87.18 272.93,-69.57\"/>\n",
       "<polygon fill=\"grey\" stroke=\"grey\" points=\"275.05,-72.37 280.04,-63.03 270.31,-67.22 275.05,-72.37\"/>\n",
       "<text text-anchor=\"middle\" x=\"258.02\" y=\"-88.38\" font-family=\"Times,serif\" font-size=\"14.00\">1</text>\n",
       "</g>\n",
       "</g>\n",
       "</svg>\n"
      ],
      "text/plain": [
       "<graphviz.sources.Source at 0x10cca4f80>"
      ]
     },
     "execution_count": 8,
     "metadata": {},
     "output_type": "execute_result"
    }
   ],
   "source": [
    "pyddi.plot_at_progression_graph(data)"
   ]
  },
  {
   "cell_type": "code",
   "execution_count": 9,
   "metadata": {},
   "outputs": [
    {
     "data": {
      "image/svg+xml": [
       "<?xml version=\"1.0\" encoding=\"UTF-8\" standalone=\"no\"?>\n",
       "<!DOCTYPE svg PUBLIC \"-//W3C//DTD SVG 1.1//EN\"\n",
       " \"http://www.w3.org/Graphics/SVG/1.1/DTD/svg11.dtd\">\n",
       "<!-- Generated by graphviz version 12.2.1 (20241206.2353)\n",
       " -->\n",
       "<!-- Title: clinical_prgoression Pages: 1 -->\n",
       "<svg width=\"289pt\" height=\"315pt\"\n",
       " viewBox=\"0.00 0.00 289.49 314.53\" xmlns=\"http://www.w3.org/2000/svg\" xmlns:xlink=\"http://www.w3.org/1999/xlink\">\n",
       "<g id=\"graph0\" class=\"graph\" transform=\"scale(1 1) rotate(0) translate(4 310.53)\">\n",
       "<title>clinical_prgoression</title>\n",
       "<polygon fill=\"white\" stroke=\"none\" points=\"-4,4 -4,-310.53 285.49,-310.53 285.49,4 -4,4\"/>\n",
       "<!-- cn -->\n",
       "<g id=\"node1\" class=\"node\">\n",
       "<title>cn</title>\n",
       "<ellipse fill=\"#d5e8d4\" stroke=\"black\" cx=\"100.98\" cy=\"-272.94\" rx=\"51.27\" ry=\"33.59\"/>\n",
       "<text text-anchor=\"start\" x=\"91.23\" y=\"-277.39\" font-family=\"Arial\" font-size=\"14.00\">CN</text>\n",
       "<text text-anchor=\"start\" x=\"74.73\" y=\"-258.64\" font-family=\"Arial\" font-size=\"14.00\"> </text>\n",
       "<text text-anchor=\"start\" x=\"78.48\" y=\"-258.64\" font-family=\"Arial\" font-size=\"10.00\">Baseline: 9</text>\n",
       "</g>\n",
       "<!-- scd -->\n",
       "<g id=\"node2\" class=\"node\">\n",
       "<title>scd</title>\n",
       "<ellipse fill=\"#f5f5f5\" stroke=\"black\" cx=\"54.98\" cy=\"-153.26\" rx=\"54.98\" ry=\"33.59\"/>\n",
       "<text text-anchor=\"start\" x=\"40.73\" y=\"-157.71\" font-family=\"Arial\" font-size=\"14.00\">SCD</text>\n",
       "<text text-anchor=\"start\" x=\"26.1\" y=\"-138.96\" font-family=\"Arial\" font-size=\"14.00\"> </text>\n",
       "<text text-anchor=\"start\" x=\"29.85\" y=\"-138.96\" font-family=\"Arial\" font-size=\"10.00\">Baseline: 10</text>\n",
       "</g>\n",
       "<!-- cn&#45;&gt;scd -->\n",
       "<g id=\"edge1\" class=\"edge\">\n",
       "<title>cn&#45;&gt;scd</title>\n",
       "<path fill=\"none\" stroke=\"grey\" d=\"M88.53,-240.09C83.31,-226.75 77.17,-211.04 71.58,-196.74\"/>\n",
       "<polygon fill=\"grey\" stroke=\"grey\" points=\"74.89,-195.58 67.99,-187.54 68.37,-198.13 74.89,-195.58\"/>\n",
       "<text text-anchor=\"middle\" x=\"84.11\" y=\"-208.05\" font-family=\"Times,serif\" font-size=\"14.00\">1</text>\n",
       "</g>\n",
       "<!-- mci -->\n",
       "<g id=\"node3\" class=\"node\">\n",
       "<title>mci</title>\n",
       "<ellipse fill=\"#fff2cc\" stroke=\"black\" cx=\"100.98\" cy=\"-33.59\" rx=\"54.98\" ry=\"33.59\"/>\n",
       "<text text-anchor=\"start\" x=\"88.23\" y=\"-38.04\" font-family=\"Arial\" font-size=\"14.00\">MCI</text>\n",
       "<text text-anchor=\"start\" x=\"72.1\" y=\"-19.29\" font-family=\"Arial\" font-size=\"14.00\"> </text>\n",
       "<text text-anchor=\"start\" x=\"75.85\" y=\"-19.29\" font-family=\"Arial\" font-size=\"10.00\">Baseline: 51</text>\n",
       "</g>\n",
       "<!-- cn&#45;&gt;mci -->\n",
       "<g id=\"edge2\" class=\"edge\">\n",
       "<title>cn&#45;&gt;mci</title>\n",
       "<path fill=\"none\" stroke=\"grey\" d=\"M109.51,-239.46C113.22,-223.7 117.14,-204.42 118.98,-186.85 122.08,-157.16 122.08,-149.37 118.98,-119.68 117.56,-106.09 114.89,-91.47 112.04,-78.26\"/>\n",
       "<polygon fill=\"grey\" stroke=\"grey\" points=\"115.46,-77.52 109.84,-68.54 108.63,-79.06 115.46,-77.52\"/>\n",
       "<text text-anchor=\"middle\" x=\"124.68\" y=\"-148.21\" font-family=\"Times,serif\" font-size=\"14.00\">1</text>\n",
       "</g>\n",
       "<!-- scd&#45;&gt;mci -->\n",
       "<g id=\"edge3\" class=\"edge\">\n",
       "<title>scd&#45;&gt;mci</title>\n",
       "<path fill=\"none\" stroke=\"grey\" d=\"M67.55,-120.11C72.72,-106.88 78.78,-91.36 84.32,-77.2\"/>\n",
       "<polygon fill=\"grey\" stroke=\"grey\" points=\"87.49,-78.7 87.87,-68.11 80.97,-76.15 87.49,-78.7\"/>\n",
       "<text text-anchor=\"middle\" x=\"84.11\" y=\"-88.38\" font-family=\"Times,serif\" font-size=\"14.00\">4</text>\n",
       "</g>\n",
       "<!-- dementia -->\n",
       "<g id=\"node4\" class=\"node\">\n",
       "<title>dementia</title>\n",
       "<ellipse fill=\"#f8cecc\" stroke=\"black\" cx=\"225.98\" cy=\"-272.94\" rx=\"55.51\" ry=\"33.59\"/>\n",
       "<text text-anchor=\"start\" x=\"196.73\" y=\"-277.39\" font-family=\"Arial\" font-size=\"14.00\">Dementia</text>\n",
       "<text text-anchor=\"start\" x=\"199.73\" y=\"-258.64\" font-family=\"Arial\" font-size=\"14.00\"> </text>\n",
       "<text text-anchor=\"start\" x=\"203.48\" y=\"-258.64\" font-family=\"Arial\" font-size=\"10.00\">Baseline: 3</text>\n",
       "</g>\n",
       "</g>\n",
       "</svg>\n"
      ],
      "text/plain": [
       "<graphviz.sources.Source at 0x10fd0ca70>"
      ]
     },
     "execution_count": 9,
     "metadata": {},
     "output_type": "execute_result"
    }
   ],
   "source": [
    "pyddi.plot_stage_progression_graph(data, stage_col='stag')"
   ]
  },
  {
   "cell_type": "code",
   "execution_count": 10,
   "metadata": {},
   "outputs": [
    {
     "name": "stdout",
     "output_type": "stream",
     "text": [
      "N: 90\n",
      "Mean education years: 12.34 (2.99)\n",
      "\n",
      "N: 90 (34.44%)\n",
      "Mean age: 73.08 (5.92)\n",
      "Mean MMSE: 27.26 (2.91)\n",
      "Mean GDS: 4.89 (3.96)\n",
      "Mean MADRS: 11.71 (7.06)\n",
      "\n",
      "N: 34 (44.12%)\n",
      "Mean age: 75.03 (6.11)\n",
      "Mean MMSE: 26.30 (4.09)\n",
      "Mean GDS: 4.90 (3.78)\n",
      "Mean MADRS: 9.50 (5.85)\n"
     ]
    }
   ],
   "source": [
    "mean_edu_years = data['edu_years'].mean()\n",
    "edu_years_sd = data['edu_years'].std()\n",
    "total_subs = data['subject_label'].nunique()\n",
    "\n",
    "print(f\"N: {total_subs}\")\n",
    "print(f\"Mean education years: {mean_edu_years:.2f} ({edu_years_sd:.2f})\")\n",
    "print()\n",
    "\n",
    "baseline = data.query('visit_id == 1')\n",
    "first_followup = data.query('visit_id == 2')\n",
    "\n",
    "def print_baseline_stats(df):\n",
    "\n",
    "    total_subs = df['subject_label'].nunique()\n",
    "    \n",
    "    n_male = df.query('gender == \"male\"').shape[0]\n",
    "    n_female = df.query('gender == \"female\"').shape[0]\n",
    "    percentage_male = n_male / total_subs\n",
    "    mean_age = df['mh_age'].mean()\n",
    "    sd_age = df['mh_age'].std()\n",
    "    mean_mmse = df['mmse_total'].mean()\n",
    "    sd_mmse = df['mmse_total'].std()\n",
    "    mean_gds = df['gds_15_total'].mean()\n",
    "    sd_gds = df['gds_15_total'].std()\n",
    "    mean_madrs = df['madrs_score'].mean()\n",
    "    sd_madrs = df['madrs_score'].std()\n",
    "    \n",
    "    print(f\"N: {total_subs} ({percentage_male:.2%})\")\n",
    "    print(f\"Mean age: {mean_age:.2f} ({sd_age:.2f})\")\n",
    "    print(f\"Mean MMSE: {mean_mmse:.2f} ({sd_mmse:.2f})\")\n",
    "    print(f\"Mean GDS: {mean_gds:.2f} ({sd_gds:.2f})\")\n",
    "    print(f\"Mean MADRS: {mean_madrs:.2f} ({sd_madrs:.2f})\")\n",
    "\n",
    "# Example usage\n",
    "print_baseline_stats(baseline)\n",
    "print()\n",
    "print_baseline_stats(first_followup)\n"
   ]
  },
  {
   "cell_type": "markdown",
   "metadata": {},
   "source": [
    "## Data availability"
   ]
  },
  {
   "cell_type": "code",
   "execution_count": 11,
   "metadata": {},
   "outputs": [],
   "source": [
    "import seaborn as sns\n",
    "import matplotlib.pyplot as plt\n",
    "import numpy as np\n",
    "sns.set_theme(style=\"whitegrid\", palette=\"husl\")\n",
    "\n",
    "def plot_countplot(\n",
    "        data, \n",
    "        variable, \n",
    "        hue=None, \n",
    "        title='',\n",
    "        annotate=True,\n",
    "        show_percentage=True,\n",
    "        xlabel='',\n",
    "        ylabel='',\n",
    "        figsize=(12,\n",
    "        8),\n",
    "        ax=None,\n",
    "        order=True,\n",
    "        color=None):\n",
    "    if ax is None:\n",
    "        plt.figure(figsize=figsize)\n",
    "        if order:\n",
    "            ax = sns.countplot(y=variable, data=data, hue=hue, order=data[variable].value_counts().index, color=color if hue is None else None)\n",
    "        else:\n",
    "            ax = sns.countplot(y=variable, data=data, hue=hue, color=color if hue is None else None)\n",
    "    else:\n",
    "        if order:\n",
    "            sns.countplot(y=variable, data=data, hue=hue, order=data[variable].value_counts().index, ax=ax, color=color if hue is None else None)\n",
    "        else:\n",
    "            sns.countplot(y=variable, data=data, hue=hue, ax=ax, color=color if hue is None else None)\n",
    "        \n",
    "    sns.despine()\n",
    "    ax.set_title(title)\n",
    "    ax.set_xlabel(xlabel)\n",
    "    ax.set_ylabel(ylabel)\n",
    "    if annotate:\n",
    "        for p in ax.patches:\n",
    "            count = p.get_width()\n",
    "            if show_percentage:\n",
    "                percentage = 100 * count / len(data)\n",
    "                if count > 0:\n",
    "                    text = f'{int(count)} ({percentage:.2f}%)'\n",
    "                    ax.text(count + 0.6, p.get_y() + p.get_height() / 2., text, va=\"center\")\n",
    "            else:\n",
    "                if count > 0:\n",
    "                    text = f'{int(count)}'\n",
    "                    ax.text(count + 0.6, p.get_y() + p.get_height() / 2., text, va=\"center\")\n",
    "    if ax is None:\n",
    "        plt.show()\n",
    "\n",
    "    return ax"
   ]
  },
  {
   "cell_type": "code",
   "execution_count": 12,
   "metadata": {},
   "outputs": [
    {
     "data": {
      "text/plain": [
       "<matplotlib.legend.Legend at 0x11bb41a90>"
      ]
     },
     "execution_count": 12,
     "metadata": {},
     "output_type": "execute_result"
    },
    {
     "data": {
      "image/png": "[encoded data removed]",
      "text/plain": [
       "<Figure size 1200x800 with 1 Axes>"
      ]
     },
     "metadata": {},
     "output_type": "display_data"
    },
    {
     "data": {
      "image/png": "[encoded data removed]",
      "text/plain": [
       "<Figure size 1200x800 with 1 Axes>"
      ]
     },
     "metadata": {},
     "output_type": "display_data"
    }
   ],
   "source": [
    "plot_countplot(\n",
    "    data,\n",
    "    variable='visit_id',\n",
    "    title='Assessments',\n",
    "    \n",
    ")\n",
    "\n",
    "ax = plot_countplot(\n",
    "    data,\n",
    "    variable='stag_text',\n",
    "    hue='visit_id',\n",
    "    title='Assessments',\n",
    "    \n",
    ")\n",
    "ax.legend(loc='lower center', bbox_to_anchor=(0.5, -0.2), ncol=2)"
   ]
  },
  {
   "cell_type": "code",
   "execution_count": null,
   "metadata": {},
   "outputs": [
    {
     "data": {
      "text/plain": [
       "Text(0, 0.5, '')"
      ]
     },
     "execution_count": 42,
     "metadata": {},
     "output_type": "execute_result"
    },
    {
     "data": {
      "image/png": "[encoded data removed]",
      "text/plain": [
       "<Figure size 1500x800 with 4 Axes>"
      ]
     },
     "metadata": {},
     "output_type": "display_data"
    }
   ],
   "source": [
    "fig, axes = plt.subplots(2, 2, figsize=(15, 8))\n",
    "fig.subplots_adjust(hspace=0.5)  # Increase the gap between rows\n",
    "axes[1][1].axis('off')  # Deactivate the axes[1][1]\n",
    "pyddi.plot_countplot(\n",
    "    baseline,\n",
    "    variable='gender',\n",
    "    title=f'Subjects (N={len(baseline)})',\n",
    "    ax=axes[0][0],\n",
    ")\n",
    "\n",
    "pyddi.plot_countplot(\n",
    "    data,\n",
    "    variable='visit_id',\n",
    "    title='Assessments',\n",
    "    ax=axes[0][1],\n",
    ")\n",
    "\n",
    "vilax = axes[1][0]\n",
    "sns.violinplot(\n",
    "    data=data[data['visit_id'] < 4], \n",
    "    x=\"visit_id\", \n",
    "    y=\"available_age\",\n",
    "    cut=0, \n",
    "    split=True, \n",
    "    inner=\"point\", \n",
    "    ax=vilax, \n",
    "    hue='gender', \n",
    "    palette=\"Set2\", \n",
    "    dodge=True,\n",
    "    )\n",
    "vilax.set_title('Age distribution')\n",
    "vilax.set_xlabel('Visit')\n",
    "vilax.set_ylabel('')\n"
   ]
  },
  {
   "cell_type": "code",
   "execution_count": 25,
   "metadata": {},
   "outputs": [
    {
     "data": {
      "text/plain": [
       "np.float64(58.0)"
      ]
     },
     "execution_count": 25,
     "metadata": {},
     "output_type": "execute_result"
    }
   ],
   "source": [
    "data[data['visit_id'] < 4].available_age.min()"
   ]
  },
  {
   "cell_type": "code",
   "execution_count": 13,
   "metadata": {},
   "outputs": [
    {
     "data": {
      "text/plain": [
       "['subject_label',\n",
       " 'subject_label_full',\n",
       " 'mh_label',\n",
       " 'cs_label',\n",
       " 'diag_label',\n",
       " 'csf_label',\n",
       " 'bioch_label',\n",
       " 'phyex_label',\n",
       " 'madrs_label',\n",
       " 'dat_label',\n",
       " 'petct_label']"
      ]
     },
     "execution_count": 13,
     "metadata": {},
     "output_type": "execute_result"
    }
   ],
   "source": [
    "label_cols = [col for col in data.columns if 'label' in col]\n",
    "label_cols"
   ]
  },
  {
   "cell_type": "code",
   "execution_count": 26,
   "metadata": {},
   "outputs": [
    {
     "ename": "AttributeError",
     "evalue": "'DataFrame' object has no attribute 'iteritems'",
     "output_type": "error",
     "traceback": [
      "\u001b[0;31m---------------------------------------------------------------------------\u001b[0m",
      "\u001b[0;31mAttributeError\u001b[0m                            Traceback (most recent call last)",
      "\u001b[0;32m/var/folders/yx/9lb3jqpd79q884d6t5pcfxtc0000gn/T/ipykernel_8402/3215453481.py\u001b[0m in \u001b[0;36m?\u001b[0;34m()\u001b[0m\n\u001b[1;32m     10\u001b[0m     \u001b[0mheight\u001b[0m\u001b[0;34m=\u001b[0m\u001b[0;36m4\u001b[0m\u001b[0;34m,\u001b[0m\u001b[0;34m\u001b[0m\u001b[0;34m\u001b[0m\u001b[0m\n\u001b[1;32m     11\u001b[0m     \u001b[0maspect\u001b[0m\u001b[0;34m=\u001b[0m\u001b[0;36m1.5\u001b[0m\u001b[0;34m\u001b[0m\u001b[0;34m\u001b[0m\u001b[0m\n\u001b[1;32m     12\u001b[0m \u001b[0;34m)\u001b[0m\u001b[0;34m\u001b[0m\u001b[0;34m\u001b[0m\u001b[0m\n\u001b[1;32m     13\u001b[0m \u001b[0;34m\u001b[0m\u001b[0m\n\u001b[0;32m---> 14\u001b[0;31m g.map(\n\u001b[0m\u001b[1;32m     15\u001b[0m     \u001b[0msns\u001b[0m\u001b[0;34m.\u001b[0m\u001b[0mlineplot\u001b[0m\u001b[0;34m,\u001b[0m\u001b[0;34m\u001b[0m\u001b[0;34m\u001b[0m\u001b[0m\n\u001b[1;32m     16\u001b[0m     \u001b[0;34m'years_from_baseline'\u001b[0m\u001b[0;34m,\u001b[0m\u001b[0;34m\u001b[0m\u001b[0;34m\u001b[0m\u001b[0m\n\u001b[1;32m     17\u001b[0m     \u001b[0;34m'gds_15_total'\u001b[0m\u001b[0;34m,\u001b[0m\u001b[0;34m\u001b[0m\u001b[0;34m\u001b[0m\u001b[0m\n",
      "\u001b[0;32m/opt/homebrew/Caskroom/miniconda/base/lib/python3.12/site-packages/seaborn/axisgrid.py\u001b[0m in \u001b[0;36m?\u001b[0;34m(self, func, *args, **kwargs)\u001b[0m\n\u001b[1;32m    673\u001b[0m             \u001b[0;31m# Get the actual data we are going to plot with\u001b[0m\u001b[0;34m\u001b[0m\u001b[0;34m\u001b[0m\u001b[0m\n\u001b[1;32m    674\u001b[0m             \u001b[0mplot_data\u001b[0m \u001b[0;34m=\u001b[0m \u001b[0mdata_ijk\u001b[0m\u001b[0;34m[\u001b[0m\u001b[0mlist\u001b[0m\u001b[0;34m(\u001b[0m\u001b[0margs\u001b[0m\u001b[0;34m)\u001b[0m\u001b[0;34m]\u001b[0m\u001b[0;34m\u001b[0m\u001b[0;34m\u001b[0m\u001b[0m\n\u001b[1;32m    675\u001b[0m             \u001b[0;32mif\u001b[0m \u001b[0mself\u001b[0m\u001b[0;34m.\u001b[0m\u001b[0m_dropna\u001b[0m\u001b[0;34m:\u001b[0m\u001b[0;34m\u001b[0m\u001b[0;34m\u001b[0m\u001b[0m\n\u001b[1;32m    676\u001b[0m                 \u001b[0mplot_data\u001b[0m \u001b[0;34m=\u001b[0m \u001b[0mplot_data\u001b[0m\u001b[0;34m.\u001b[0m\u001b[0mdropna\u001b[0m\u001b[0;34m(\u001b[0m\u001b[0;34m)\u001b[0m\u001b[0;34m\u001b[0m\u001b[0;34m\u001b[0m\u001b[0m\n\u001b[0;32m--> 677\u001b[0;31m             \u001b[0mplot_args\u001b[0m \u001b[0;34m=\u001b[0m \u001b[0;34m[\u001b[0m\u001b[0mv\u001b[0m \u001b[0;32mfor\u001b[0m \u001b[0mk\u001b[0m\u001b[0;34m,\u001b[0m \u001b[0mv\u001b[0m \u001b[0;32min\u001b[0m \u001b[0mplot_data\u001b[0m\u001b[0;34m.\u001b[0m\u001b[0miteritems\u001b[0m\u001b[0;34m(\u001b[0m\u001b[0;34m)\u001b[0m\u001b[0;34m]\u001b[0m\u001b[0;34m\u001b[0m\u001b[0;34m\u001b[0m\u001b[0m\n\u001b[0m\u001b[1;32m    678\u001b[0m \u001b[0;34m\u001b[0m\u001b[0m\n\u001b[1;32m    679\u001b[0m             \u001b[0;31m# Some matplotlib functions don't handle pandas objects correctly\u001b[0m\u001b[0;34m\u001b[0m\u001b[0;34m\u001b[0m\u001b[0m\n\u001b[1;32m    680\u001b[0m             \u001b[0;32mif\u001b[0m \u001b[0mfunc_module\u001b[0m\u001b[0;34m.\u001b[0m\u001b[0mstartswith\u001b[0m\u001b[0;34m(\u001b[0m\u001b[0;34m\"matplotlib\"\u001b[0m\u001b[0;34m)\u001b[0m\u001b[0;34m:\u001b[0m\u001b[0;34m\u001b[0m\u001b[0;34m\u001b[0m\u001b[0m\n",
      "\u001b[0;32m/opt/homebrew/Caskroom/miniconda/base/lib/python3.12/site-packages/pandas/core/generic.py\u001b[0m in \u001b[0;36m?\u001b[0;34m(self, name)\u001b[0m\n\u001b[1;32m   6295\u001b[0m             \u001b[0;32mand\u001b[0m \u001b[0mname\u001b[0m \u001b[0;32mnot\u001b[0m \u001b[0;32min\u001b[0m \u001b[0mself\u001b[0m\u001b[0;34m.\u001b[0m\u001b[0m_accessors\u001b[0m\u001b[0;34m\u001b[0m\u001b[0;34m\u001b[0m\u001b[0m\n\u001b[1;32m   6296\u001b[0m             \u001b[0;32mand\u001b[0m \u001b[0mself\u001b[0m\u001b[0;34m.\u001b[0m\u001b[0m_info_axis\u001b[0m\u001b[0;34m.\u001b[0m\u001b[0m_can_hold_identifiers_and_holds_name\u001b[0m\u001b[0;34m(\u001b[0m\u001b[0mname\u001b[0m\u001b[0;34m)\u001b[0m\u001b[0;34m\u001b[0m\u001b[0;34m\u001b[0m\u001b[0m\n\u001b[1;32m   6297\u001b[0m         \u001b[0;34m)\u001b[0m\u001b[0;34m:\u001b[0m\u001b[0;34m\u001b[0m\u001b[0;34m\u001b[0m\u001b[0m\n\u001b[1;32m   6298\u001b[0m             \u001b[0;32mreturn\u001b[0m \u001b[0mself\u001b[0m\u001b[0;34m[\u001b[0m\u001b[0mname\u001b[0m\u001b[0;34m]\u001b[0m\u001b[0;34m\u001b[0m\u001b[0;34m\u001b[0m\u001b[0m\n\u001b[0;32m-> 6299\u001b[0;31m         \u001b[0;32mreturn\u001b[0m \u001b[0mobject\u001b[0m\u001b[0;34m.\u001b[0m\u001b[0m__getattribute__\u001b[0m\u001b[0;34m(\u001b[0m\u001b[0mself\u001b[0m\u001b[0;34m,\u001b[0m \u001b[0mname\u001b[0m\u001b[0;34m)\u001b[0m\u001b[0;34m\u001b[0m\u001b[0;34m\u001b[0m\u001b[0m\n\u001b[0m",
      "\u001b[0;31mAttributeError\u001b[0m: 'DataFrame' object has no attribute 'iteritems'"
     ]
    },
    {
     "data": {
      "image/png": "[encoded data removed]",
      "text/plain": [
       "<Figure size 2400x400 with 4 Axes>"
      ]
     },
     "metadata": {},
     "output_type": "display_data"
    }
   ],
   "source": [
    "import matplotlib.pyplot as plt\n",
    "import seaborn as sns\n",
    "# mci = data.query('stag_text == \"MCI\"')\n",
    "# print(len(mci), mci['gds_15_total'].notna().sum(),mci['gds_15_total'].isna().sum())\n",
    "\n",
    "g = sns.FacetGrid(\n",
    "    data,\n",
    "    col='progression_type',\n",
    "    palette='husl',\n",
    "    height=4,\n",
    "    aspect=1.5\n",
    ")\n",
    "\n",
    "g.map(\n",
    "    sns.lineplot, \n",
    "    'years_from_baseline', \n",
    "    'gds_15_total', \n",
    "    # estimator=None, \n",
    "    # lw=1, \n",
    "    alpha=0.7, \n",
    "    units='subject_label'\n",
    "    )\n",
    "\n",
    "# sns.lineplot(\n",
    "#     data=mc,\n",
    "#     x='years_from_baseline',\n",
    "#     y='gds_15_total',\n",
    "#     estimator=None,\n",
    "#     units='subject_label',\n",
    "#     lw=1,\n",
    "#     alpha=0.7,\n",
    "#     # ax=axes[0]\n",
    "# )\n",
    "\n",
    "# sns.scatterplot(\n",
    "#     data=mci,\n",
    "#     x='years_from_baseline',\n",
    "#     y='gds_15_total',\n",
    "#     # ax=axes[0]\n",
    "# )"
   ]
  },
  {
   "cell_type": "code",
   "execution_count": 24,
   "metadata": {},
   "outputs": [
    {
     "data": {
      "text/plain": [
       "progression_type\n",
       "Stable MCI               67\n",
       "Stable CN                36\n",
       "CN to MCI                16\n",
       "Stable non progressor     7\n",
       "Name: count, dtype: int64"
      ]
     },
     "execution_count": 24,
     "metadata": {},
     "output_type": "execute_result"
    }
   ],
   "source": [
    "# mci.query('years_from_baseline > 0')[['subject_label', 'visit_id', 'years_from_baseline','mh_label', 'gds_15_total']]\n",
    "data.progression_type.value_counts()"
   ]
  },
  {
   "cell_type": "code",
   "execution_count": 23,
   "metadata": {},
   "outputs": [
    {
     "data": {
      "text/html": [
       "<div>\n",
       "<style scoped>\n",
       "    .dataframe tbody tr th:only-of-type {\n",
       "        vertical-align: middle;\n",
       "    }\n",
       "\n",
       "    .dataframe tbody tr th {\n",
       "        vertical-align: top;\n",
       "    }\n",
       "\n",
       "    .dataframe thead th {\n",
       "        text-align: right;\n",
       "    }\n",
       "</style>\n",
       "<table border=\"1\" class=\"dataframe\">\n",
       "  <thead>\n",
       "    <tr style=\"text-align: right;\">\n",
       "      <th></th>\n",
       "      <th>subject_label</th>\n",
       "      <th>visit_id</th>\n",
       "      <th>years_from_baseline</th>\n",
       "      <th>mh_label</th>\n",
       "      <th>gds_15_total</th>\n",
       "    </tr>\n",
       "  </thead>\n",
       "  <tbody>\n",
       "    <tr>\n",
       "      <th>43</th>\n",
       "      <td>D13023</td>\n",
       "      <td>3</td>\n",
       "      <td>7.030801</td>\n",
       "      <td>D13023_mh_20250130_3</td>\n",
       "      <td>3.0</td>\n",
       "    </tr>\n",
       "  </tbody>\n",
       "</table>\n",
       "</div>"
      ],
      "text/plain": [
       "   subject_label  visit_id  years_from_baseline              mh_label  \\\n",
       "43        D13023         3             7.030801  D13023_mh_20250130_3   \n",
       "\n",
       "    gds_15_total  \n",
       "43           3.0  "
      ]
     },
     "execution_count": 23,
     "metadata": {},
     "output_type": "execute_result"
    }
   ],
   "source": [
    "mci.query('subject_label == \"D13023\"')[['subject_label', 'visit_id', 'years_from_baseline','mh_label', 'gds_15_total']]"
   ]
  }
 ],
 "metadata": {
  "kernelspec": {
   "display_name": "base",
   "language": "python",
   "name": "python3"
  },
  "language_info": {
   "codemirror_mode": {
    "name": "ipython",
    "version": 3
   },
   "file_extension": ".py",
   "mimetype": "text/x-python",
   "name": "python",
   "nbconvert_exporter": "python",
   "pygments_lexer": "ipython3",
   "version": "3.12.9"
  }
 },
 "nbformat": 4,
 "nbformat_minor": 2
}
